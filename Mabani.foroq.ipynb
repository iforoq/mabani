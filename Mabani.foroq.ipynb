{
 "cells": [
  {
   "cell_type": "markdown",
   "id": "5048fbee",
   "metadata": {},
   "source": [
    "# Tamrin Jalase dovom "
   ]
  },
  {
   "cell_type": "code",
   "execution_count": 1,
   "id": "0154ccf4",
   "metadata": {},
   "outputs": [
    {
     "name": "stdout",
     "output_type": "stream",
     "text": [
      "Enter a  :10\n",
      "Enter b  :20\n",
      "30\n"
     ]
    }
   ],
   "source": [
    "a = int(input(\"Enter a  :\"))\n",
    "b = int(input(\"Enter b  :\"))\n",
    "Sum = a + b \n",
    "print(Sum)"
   ]
  },
  {
   "cell_type": "code",
   "execution_count": 2,
   "id": "6801b29b",
   "metadata": {},
   "outputs": [
    {
     "name": "stdout",
     "output_type": "stream",
     "text": [
      "Enter a : 10\n",
      "Enter b : 20\n",
      "Second Num is bigger : 20! \n"
     ]
    }
   ],
   "source": [
    "a = int(input(\"Enter a : \"))\n",
    "b = int(input(\"Enter b : \"))\n",
    "\n",
    "if a > b:\n",
    "    print(\"First Num is bigger :%s ! \" %(a))\n",
    "elif b > a : \n",
    "    print(\"Second Num is bigger : %s! \"%(b))\n",
    "else: \n",
    "    print(\"two numbers are equal\")\n",
    "    "
   ]
  },
  {
   "cell_type": "code",
   "execution_count": 3,
   "id": "c7f85dad",
   "metadata": {},
   "outputs": [
    {
     "name": "stdout",
     "output_type": "stream",
     "text": [
      "Enter a : 10\n",
      "Enter b : 20\n",
      "Enter c : 30\n",
      "30\n"
     ]
    }
   ],
   "source": [
    "a = int(input(\"Enter a : \"))\n",
    "b = int(input(\"Enter b : \"))\n",
    "c = int(input(\"Enter c : \"))\n",
    "\n",
    "if a>b and a>c:\n",
    "    print(a)\n",
    "elif b>a and b>c :\n",
    "    print(b)\n",
    "elif c>a and c>b :\n",
    "    print(c)\n",
    "else :\n",
    "    print(\"3 adad mosavi hastand\")"
   ]
  },
  {
   "cell_type": "code",
   "execution_count": 5,
   "id": "8c9e04f8",
   "metadata": {},
   "outputs": [
    {
     "name": "stdout",
     "output_type": "stream",
     "text": [
      "Enter num : 10\n",
      "Enter a:25\n",
      "Enter a:35\n",
      "Enter a:62\n",
      "Enter a:54\n",
      "Enter a:15\n",
      "Enter a:12\n",
      "Enter a:356\n",
      "Enter a:5989\n",
      "Enter a:457\n",
      "5989\n"
     ]
    }
   ],
   "source": [
    "Max = int(input(\"Enter num : \"))\n",
    "counter = 1\n",
    "\n",
    "while counter <10 :\n",
    "    a = int(input(\"Enter a:\"))\n",
    "    counter += 1 \n",
    "    if a >Max :\n",
    "        Max = a\n",
    "print(Max)"
   ]
  },
  {
   "cell_type": "code",
   "execution_count": 7,
   "id": "bb12aa49",
   "metadata": {},
   "outputs": [
    {
     "name": "stdout",
     "output_type": "stream",
     "text": [
      "Enter a :15\n",
      "Enter b : 35\n",
      "Enter b : 26\n",
      "Enter b : 25\n",
      "Enter b : 41\n",
      "Enter b : 2354\n",
      "Enter b : 12\n",
      "Enter b : 45\n",
      "Enter b : 65\n",
      "Enter b : 65\n",
      "Max is 2354\n",
      "Min is 12\n"
     ]
    }
   ],
   "source": [
    "a = int(input(\"Enter a :\"))\n",
    "Max = a \n",
    "Min = a \n",
    "count = 1 \n",
    "\n",
    "while count<10:\n",
    "    b = int(input(\"Enter b : \"))\n",
    "    if b > Max :\n",
    "        Max = b\n",
    "    elif b<Min :\n",
    "        Min = b\n",
    "    count +=1 \n",
    "print(\"Max is %s\"%(Max))\n",
    "print(\"Min is %s\"%(Min))\n",
    "    "
   ]
  },
  {
   "cell_type": "code",
   "execution_count": 7,
   "id": "a0d8bdbb",
   "metadata": {},
   "outputs": [
    {
     "name": "stdout",
     "output_type": "stream",
     "text": [
      "Enter Num :10\n",
      "Enter Num :20\n",
      "Enter Num :14\n",
      "Enter Num :15\n",
      "Enter Num :1\n",
      "Enter Num :2\n",
      "Enter Num :35\n",
      "Enter Num :65\n",
      "Enter Num :66\n",
      "Enter Num :152\n",
      "[10, 20, 14, 15, 1, 2, 35, 65, 66, 152]\n",
      "[1, 2, 10, 14, 15, 20, 35, 65, 66, 152]\n"
     ]
    }
   ],
   "source": [
    "#Sort : Kochak b bozorg\n",
    "List = []\n",
    "\n",
    "for x in range(0,10):\n",
    "    List.append(int(input(\"Enter Num :\")))\n",
    "\n",
    "print(List)\n",
    "def sort(get_list):\n",
    "    for i in range(1, len(get_list)):\n",
    "        if(get_list[i]<get_list[i-1]):\n",
    "            j = i \n",
    "            while L1[j] < get_list[j-1] and j>0:\n",
    "                get_list[j],get_list[j-1] = get_list[j-1], get_list[j]\n",
    "                j = j-1\n",
    "    return get_list\n",
    "\n",
    "print(sort(List))"
   ]
  },
  {
   "cell_type": "markdown",
   "id": "a1c8c491",
   "metadata": {},
   "source": [
    "# Jalase sevom "
   ]
  },
  {
   "cell_type": "code",
   "execution_count": 8,
   "id": "55bc6537",
   "metadata": {},
   "outputs": [
    {
     "name": "stdout",
     "output_type": "stream",
     "text": [
      "Enter Num :52\n",
      "Enter Num :35\n",
      "Enter Num :1\n",
      "Enter Num :2\n",
      "Enter Num :3\n",
      "Enter Num :45\n",
      "Enter Num :54\n",
      "Enter Num :65\n",
      "Enter Num :66\n",
      "Enter Num :14\n",
      "[52, 35, 1, 2, 3, 45, 54, 65, 66, 14]\n",
      "[66, 65, 54, 52, 45, 35, 14, 3, 2, 1]\n"
     ]
    }
   ],
   "source": [
    "#sort bozorg b kochik\n",
    "List = []\n",
    "\n",
    "for x in range(0,10):\n",
    "    List.append(int(input(\"Enter Num :\")))\n",
    "\n",
    "print(L1)\n",
    "def sort(get_list):\n",
    "    for i in range(1, len(get_list)):\n",
    "        if(get_list[i]>get_list[i-1]):\n",
    "            j = i \n",
    "            while L1[j] >get_list[j-1] and j>0:\n",
    "                get_list[j],get_list[j-1] = get_list[j-1], get_list[j]\n",
    "                j = j-1\n",
    "    return get_list\n",
    "\n",
    "print(sort(List))\n",
    "        "
   ]
  },
  {
   "cell_type": "code",
   "execution_count": 9,
   "id": "d3f22632",
   "metadata": {},
   "outputs": [
    {
     "name": "stdout",
     "output_type": "stream",
     "text": [
      "Enter First Num :12\n",
      "Enter Second Num :15\n",
      "Enter 3th  Num :14\n",
      "15\n"
     ]
    }
   ],
   "source": [
    "a = int(input(\"Enter a:\"))\n",
    "b = int(input(\"Enter b :\"))\n",
    "c = int(input(\"Enter c :\"))\n",
    "\n",
    "if a>b and a>c:\n",
    "    print(a)\n",
    "elif b>a and b>c:\n",
    "    print(b)\n",
    "elif c>a and c>b:\n",
    "    print(c)\n",
    "else:\n",
    "    Print(\"3 Nums are equal \")"
   ]
  },
  {
   "cell_type": "markdown",
   "id": "939486f4",
   "metadata": {},
   "source": [
    "\n",
    "# Jalase 4"
   ]
  },
  {
   "cell_type": "code",
   "execution_count": 10,
   "id": "6503fc29",
   "metadata": {},
   "outputs": [
    {
     "name": "stdout",
     "output_type": "stream",
     "text": [
      "Enter Num :10\n",
      "Enter Num :20\n",
      "Enter Num :15\n",
      "Enter Num :11\n",
      "Enter Num :2\n",
      "Enter Num :3\n",
      "Enter Num :5\n",
      "Enter Num :6\n",
      "Enter Num :65\n",
      "Enter Num :687\n",
      "687\n"
     ]
    }
   ],
   "source": [
    "Max = int(input(\"Enter Num :\"))\n",
    "\n",
    "for i in range (1,10):\n",
    "    a = int(input(\"Enter Num :\"))\n",
    "    if a >Max :\n",
    "        Max = a \n",
    "print(Max)"
   ]
  },
  {
   "cell_type": "code",
   "execution_count": 11,
   "id": "b8d4d20c",
   "metadata": {},
   "outputs": [
    {
     "name": "stdout",
     "output_type": "stream",
     "text": [
      "Enter Num :8\n",
      "Even\n"
     ]
    }
   ],
   "source": [
    "a = int(input(\"Enter Num :\"))\n",
    "\n",
    "if (a%2== 0):\n",
    "    print(\"Even\")\n",
    "else :\n",
    "    print(\"Add\")"
   ]
  },
  {
   "cell_type": "code",
   "execution_count": 9,
   "id": "87a75940",
   "metadata": {},
   "outputs": [
    {
     "name": "stdout",
     "output_type": "stream",
     "text": [
      "Enter a :10\n",
      "Enter b:20\n",
      "[12, 14, 16, 18]\n"
     ]
    }
   ],
   "source": [
    "a = int(input(\"Enter a :\"))\n",
    "b = int(input(\"Enter b:\"))\n",
    "List = []\n",
    "for i in range(a+1,b):\n",
    "    if (i%2 ==0):\n",
    "        List.append(i)\n",
    "print(List)"
   ]
  },
  {
   "cell_type": "code",
   "execution_count": 14,
   "id": "fc648009",
   "metadata": {},
   "outputs": [
    {
     "name": "stdout",
     "output_type": "stream",
     "text": [
      "Enter Num :7\n",
      "F\n"
     ]
    }
   ],
   "source": [
    "a = int(input(\"Enter Num :\"))\n",
    "count = 0 \n",
    "\n",
    "for i in range(2,a):\n",
    "    if (a%i==0):\n",
    "        count += 1 \n",
    "\n",
    "if count > 0 :\n",
    "    print(\"H\")\n",
    "else:\n",
    "    print(\"F\")\n",
    "    "
   ]
  },
  {
   "cell_type": "code",
   "execution_count": 15,
   "id": "1342dcf8",
   "metadata": {},
   "outputs": [
    {
     "name": "stdout",
     "output_type": "stream",
     "text": [
      "Enter First Num :1\n",
      "Enter Second Num :20\n",
      "[5, 7, 9, 11, 13, 15, 17, 19]\n"
     ]
    }
   ],
   "source": [
    "a = int(input(\"Enter a:\"))\n",
    "b = int(input(\"Enter b :\"))\n",
    "List = []\n",
    "count = 0\n",
    "\n",
    "if a > b :\n",
    "    a = a+b\n",
    "    b = a-b\n",
    "    a = a-b\n",
    "\n",
    "for numb in range(a+1, b):\n",
    "    for j in range(2,numb):\n",
    "        if (numb%j==0):\n",
    "            count += 1 \n",
    "            break\n",
    "        if count != 0 :\n",
    "            List.append(numb)\n",
    "            break\n",
    "print(List)\n",
    "                \n",
    "        "
   ]
  },
  {
   "cell_type": "markdown",
   "id": "e22e53a0",
   "metadata": {},
   "source": [
    "# Jalase 5 "
   ]
  },
  {
   "cell_type": "code",
   "execution_count": 11,
   "id": "ea1040fb",
   "metadata": {},
   "outputs": [
    {
     "name": "stdout",
     "output_type": "stream",
     "text": [
      "Enter a :10\n",
      "No\n"
     ]
    }
   ],
   "source": [
    "a = int(input(\"Enter a :\"))\n",
    "List = []\n",
    "count = 0\n",
    "\n",
    "if a > b :\n",
    "    a = a+b\n",
    "    b = a-b\n",
    "    a = a-b\n",
    "\n",
    "    \n",
    "b = 0\n",
    "for i in range(1, a+1):\n",
    "    if (a % i == 0):\n",
    "        b += i \n",
    "\n",
    "if (b ==a*2) :\n",
    "    print(\"Yes\")\n",
    "else:\n",
    "    print(\"No\")"
   ]
  },
  {
   "cell_type": "code",
   "execution_count": 27,
   "id": "29b22d8b",
   "metadata": {},
   "outputs": [
    {
     "name": "stdout",
     "output_type": "stream",
     "text": [
      "Enter First Num :2\n",
      "Enter Second Num :20\n",
      "False\n",
      "False\n",
      "False\n",
      "False\n",
      "True\n",
      "False\n",
      "False\n",
      "False\n",
      "False\n",
      "False\n",
      "False\n",
      "False\n",
      "False\n",
      "False\n",
      "False\n",
      "False\n",
      "False\n",
      "False\n",
      "False\n",
      "[]\n"
     ]
    }
   ],
   "source": [
    "a = int(input(\"Enter a :\"))\n",
    "b = int(input(\"Enter b :\"))\n",
    "List = []\n",
    "\n",
    "\n",
    "if a > b :\n",
    "    a = a+b\n",
    "    b = a-b\n",
    "    a = a-b\n",
    "\n",
    "for i in range (a, b+1):\n",
    "    count = 0\n",
    "    for j in range(1,i+1):\n",
    "        if (i%j ==0):\n",
    "            count += j  \n",
    "    if (count== 2*i):\n",
    "        print(\"True\")\n",
    "        \n",
    "    else:\n",
    "        print(\"False\")\n",
    "        \n",
    "print(List)"
   ]
  },
  {
   "cell_type": "code",
   "execution_count": 11,
   "id": "a42479af",
   "metadata": {},
   "outputs": [
    {
     "name": "stdout",
     "output_type": "stream",
     "text": [
      "Enter Num1 :13\n",
      "Enter Num2 :25\n",
      "[14, 16, 18, 20, 22, 24, 13, 15, 17, 19, 21, 23]\n"
     ]
    }
   ],
   "source": [
    "#Adad Zoj \n",
    "\n",
    "a = int(input(\"Enter a :\"))\n",
    "b = int(input(\"Enter b :\"))\n",
    "List = []\n",
    "\n",
    "if a > b :\n",
    "    a = a+b\n",
    "    b = a-b\n",
    "    a = a-b\n",
    "\n",
    "if (a%2 == 0):\n",
    "    for i in range(a+2, b,2):\n",
    "        List.append(i)    \n",
    "else:\n",
    "    for j in range(a+1, b, 2):\n",
    "        List.append(j)\n",
    "\n",
    "\n",
    "for i in range(a, b,2):\n",
    "    List.append(i)\n",
    "    \n",
    "print(L1)"
   ]
  },
  {
   "cell_type": "code",
   "execution_count": 23,
   "id": "aa7bb802",
   "metadata": {},
   "outputs": [
    {
     "name": "stdout",
     "output_type": "stream",
     "text": [
      "Enter Num for list 1 :10\n",
      "Enter Num for list 1 :20\n",
      "Enter Num for list 1 :30\n",
      "Enter Num for list 1 :40\n",
      "Enter Num for list 1 :50\n",
      "Enter Num for list 1 :60\n",
      "Enter Num for list 1 :15\n",
      "Enter Num for list 1 :124\n",
      "Enter Num for list 1 :3251\n",
      "Enter Num for list 1 :1254\n",
      "Enter Num for list 2: 12564\n",
      "Enter Num for list 2: 125\n",
      "Enter Num for list 2: 1243\n",
      "Enter Num for list 2: 125\n",
      "Enter Num for list 2: 125\n",
      "Enter Num for list 2: 214\n",
      "Enter Num for list 2: 120\n",
      "Enter Num for list 2: 120\n",
      "Enter Num for list 2: 310\n",
      "Enter Num for list 2: 145\n",
      "[10, 15, 20, 30, 40, 50, 60, 120, 120, 124, 125, 125, 125, 145, 214, 310, 1243, 1254, 3251, 12564]\n"
     ]
    }
   ],
   "source": [
    "List1 = []\n",
    "List2 = []\n",
    "\n",
    "for i in range(0, 10):\n",
    "    List1.append(int(input(\"Enter Num for list 1 :\")))\n",
    "    \n",
    "for j in range(0, 10):\n",
    "    List2.append(int(input(\"Enter Num for list 2: \")))\n",
    "\n",
    "List3 = List1+List2\n",
    "\n",
    "def sort(get_list):\n",
    "    for i in range(1, len(get_list)):\n",
    "        if(get_list[i]<get_list[i-1]):\n",
    "            j = i \n",
    "            while L3[j] < get_list[j-1] and j>0:\n",
    "                get_list[j],get_list[j-1] = get_list[j-1], get_list[j]\n",
    "                j = j-1\n",
    "    return get_list\n",
    "\n",
    "print(sort(List3))\n",
    "\n"
   ]
  },
  {
   "cell_type": "code",
   "execution_count": null,
   "id": "ae883e6b",
   "metadata": {},
   "outputs": [],
   "source": []
  }
 ],
 "metadata": {
  "kernelspec": {
   "display_name": "Python 3 (ipykernel)",
   "language": "python",
   "name": "python3"
  },
  "language_info": {
   "codemirror_mode": {
    "name": "ipython",
    "version": 3
   },
   "file_extension": ".py",
   "mimetype": "text/x-python",
   "name": "python",
   "nbconvert_exporter": "python",
   "pygments_lexer": "ipython3",
   "version": "3.9.13"
  }
 },
 "nbformat": 4,
 "nbformat_minor": 5
}

    "List3 = List1+List2\n",
    "\n",
    "def sort(get_list):\n",
    "    for i in range(1, len(get_list)):\n",
    "        if(get_list[i]<get_list[i-1]):\n",
    "            j = i \n",
    "            while L3[j] < get_list[j-1] and j>0:\n",
    "                get_list[j],get_list[j-1] = get_list[j-1], get_list[j]\n",
    "                j = j-1\n",
    "    return get_list\n",
    "\n",
    "print(sort(List3))\n",
    "\n"
   ]
  },
  {
   "cell_type": "code",
   "execution_count": null,
   "id": "ae883e6b",
   "metadata": {},
   "outputs": [],
   "